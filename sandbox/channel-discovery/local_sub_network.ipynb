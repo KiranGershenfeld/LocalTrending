{
 "cells": [
  {
   "cell_type": "code",
   "execution_count": 9,
   "metadata": {},
   "outputs": [],
   "source": [
    "import time\n",
    "from selenium.webdriver import Chrome\n",
    "from selenium.webdriver.chrome.options import Options\n",
    "from selenium.webdriver.common.by import By\n",
    "from selenium.webdriver.common.keys import Keys\n",
    "from selenium.webdriver.support.ui import WebDriverWait\n",
    "from selenium.webdriver.support import expected_conditions as EC\n",
    "\n",
    "VIDEO_ID = '6SOA7vq2BVI'"
   ]
  },
  {
   "cell_type": "code",
   "execution_count": 20,
   "metadata": {},
   "outputs": [
    {
     "ename": "TimeoutException",
     "evalue": "Message: \n",
     "output_type": "error",
     "traceback": [
      "\u001b[0;31m---------------------------------------------------------------------------\u001b[0m",
      "\u001b[0;31mTimeoutException\u001b[0m                          Traceback (most recent call last)",
      "Cell \u001b[0;32mIn[20], line 15\u001b[0m\n\u001b[1;32m     12\u001b[0m     wait\u001b[38;5;241m.\u001b[39muntil(EC\u001b[38;5;241m.\u001b[39mvisibility_of_element_located((By\u001b[38;5;241m.\u001b[39mTAG_NAME, \u001b[38;5;124m\"\u001b[39m\u001b[38;5;124mbody\u001b[39m\u001b[38;5;124m\"\u001b[39m)))\u001b[38;5;241m.\u001b[39msend_keys(Keys\u001b[38;5;241m.\u001b[39mEND)\n\u001b[1;32m     13\u001b[0m     time\u001b[38;5;241m.\u001b[39msleep(\u001b[38;5;241m0\u001b[39m)\n\u001b[0;32m---> 15\u001b[0m \u001b[38;5;28;01mfor\u001b[39;00m comment \u001b[38;5;129;01min\u001b[39;00m \u001b[43mwait\u001b[49m\u001b[38;5;241;43m.\u001b[39;49m\u001b[43muntil\u001b[49m\u001b[43m(\u001b[49m\u001b[43mEC\u001b[49m\u001b[38;5;241;43m.\u001b[39;49m\u001b[43mpresence_of_all_elements_located\u001b[49m\u001b[43m(\u001b[49m\u001b[43m(\u001b[49m\u001b[43mBy\u001b[49m\u001b[38;5;241;43m.\u001b[39;49m\u001b[43mCSS_SELECTOR\u001b[49m\u001b[43m,\u001b[49m\u001b[43m \u001b[49m\u001b[38;5;124;43m\"\u001b[39;49m\u001b[38;5;124;43m#author\u001b[39;49m\u001b[38;5;124;43m\"\u001b[39;49m\u001b[43m)\u001b[49m\u001b[43m)\u001b[49m\u001b[43m)\u001b[49m:\n\u001b[1;32m     16\u001b[0m     data\u001b[38;5;241m.\u001b[39mappend(comment\u001b[38;5;241m.\u001b[39mtext)\n",
      "File \u001b[0;32m/opt/homebrew/lib/python3.10/site-packages/selenium/webdriver/support/wait.py:105\u001b[0m, in \u001b[0;36mWebDriverWait.until\u001b[0;34m(self, method, message)\u001b[0m\n\u001b[1;32m    103\u001b[0m     \u001b[38;5;28;01mif\u001b[39;00m time\u001b[38;5;241m.\u001b[39mmonotonic() \u001b[38;5;241m>\u001b[39m end_time:\n\u001b[1;32m    104\u001b[0m         \u001b[38;5;28;01mbreak\u001b[39;00m\n\u001b[0;32m--> 105\u001b[0m \u001b[38;5;28;01mraise\u001b[39;00m TimeoutException(message, screen, stacktrace)\n",
      "\u001b[0;31mTimeoutException\u001b[0m: Message: \n"
     ]
    }
   ],
   "source": [
    "data=[]\n",
    "\n",
    "chrome_options = Options()\n",
    "chrome_options.add_argument(\"--headless\")\n",
    "chrome_options.add_argument(\"--mute-audio\")\n",
    "\n",
    "with Chrome(options=chrome_options) as driver:\n",
    "    wait = WebDriverWait(driver,15)\n",
    "    driver.get(\"https://www.youtube.com/watch?v=6SOA7vq2BVI\")\n",
    "\n",
    "    for item in range(200): \n",
    "        wait.until(EC.visibility_of_element_located((By.TAG_NAME, \"body\"))).send_keys(Keys.END)\n",
    "        time.sleep(5)\n",
    "\n",
    "    comments = WebDriverWait(driver, 10).until(EC.presence_of_all_elements_located((By.CSS_SELECTOR, \"#content\")))\n",
    "    for comment in comments:\n",
    "        commenter_account = comment.find_element(By.CSS_SELECTOR, \"#author-text.yt-simple-endpoint\").text\n",
    "        print(commenter_account)"
   ]
  },
  {
   "cell_type": "code",
   "execution_count": 17,
   "metadata": {},
   "outputs": [
    {
     "data": {
      "text/plain": [
       "[\"Skip navigation\\nSign in\\n0:00 / 13:07\\n•\\nIntro\\nHow Speedrunners Broke Meet Your Maker\\nAspecticor\\n55.8K subscribers\\nSubscribe\\n896\\nShare\\n    \\n    \\n    \\n   \\n    \\n    \\n    \\n   13K views  4 months ago  #ad\\nhttps://bit.ly/Meet-Your-Maker-Aspect...  #ad \\nClick on the link above to check out Meet Your Maker and support the channel :) \\n …\\n...more\\nMeet Your Maker\\n2023\\nBROWSE GAME\\nGaming\\nBROWSE ALL GAMING\\n56:48\\nHow Speedrunners Broke Hitman's Bird% Trilogy Run\\nAspecticor\\n1.1M views 9 months ago\\n44:00\\nMeet Your Maker: Amazing Trap/Guard Combo's!\\nDr. Darkspawn Gaming\\n6.5K views 10 months ago\\n38:27\\nHow Speedrunners Beat The Hitman Trilogy In Under 28 Minutes (Speedrun Explained)\\nAspecticor\\n297K views 1 year ago\\n16:30\\nOcarina of Time Speedrunner Accidentally finds Massive Glitch\\nLunaticJ\\n654K views 8 days ago\\n4:36\\nEvery Hitman Technique You Need To Know | Glitches and Secrets #1\\nKingston\\n2.5K views 1 month ago\\n26:51\\nCookie Clicker: AAAAAHHHHH\\nDragoon\\n1.3M views 4 days ago\\nNew\\n11:33\\n5 Quick and cheap traps for meet your maker\\nWyldosis\\n22K views 10 months ago\\n43:34\\nThe Man Who Broke God of War in Half\\nThaRixer\\n5.9M views 1 year ago\\n18:16\\nBeating Cuphead, But Every Death Adds Another Random Sound\\nAspecticor\\n6.2K views 1 year ago\\n43:12\\nThe History of Hitman's Most Competitive Record\\nAspecticor\\n643K views 1 year ago\\n2:56:01\\nLet's Speedrun The Stanley Parable: Ultra Deluxe (All Endings)\\nEazySpeezy\\n628K views 6 days ago\\nNew\\n43:59\\nHow Speedrunners Broke Hitman's Hardest Difficulty\\nAspecticor\\n3.7M views 1 year ago\\n9:05\\nTips for quick resource gathering in meet your maker\\nWyldosis\\n5.7K views 10 months ago\\n33:45\\nWhy It Was Almost Impossible to Make the Blue LED\\nVeritasium\\n13M views 12 days ago\\n18:01\\nThe Entire HITMAN Trilogy In Under 25 Minutes (Silent Assassin Suit Only)\\nAspecticor\\n32K views 1 year ago\\n24:40\\nI Was the FIRST Person to Beat this Impossible Hitman Challenge\\nOnionButter\\n186K views 3 weeks ago\\n23:44\\nPlaying Hitman Head-To-Head vs. Atrioc & Linkus\\nAspecticor\\n68K views 1 year ago\\n13:23\\nMeet Your Maker Building Tips and Killer Traps! NOT KILL BOXES?\\nDecoy's Dungeon\\n4.5K views 9 months ago\\n18:50\\nThe Tetris World Record Just Got Shattered\\naGameScout\\n696K views 5 days ago\\nNew\\n11:23\\nThe Update That Could Kill Hitman Speedrunning\\nAspecticor\\n108K views 1 year ago\\nShow more\\n56 Comments\\nSort by\\nAdd a comment...\\nPinned by Aspecticor\\n@Aspecticor\\n4 months ago\\nCheck out the game here! https://bit.ly/Meet-Your-Maker-Aspecticor\\n23\\nReply\\n@Dav1d0v7\\n4 months ago\\nAspecticor has made it out of his editing dungeon!\\n74\\nReply\\n@tillat2223\\n3 months ago\\nI'm not a speed runner but the map designs with multiple traps in a single area has transformed my play style. I've become a speed runner.\\n11\\nReply\\n@jacquephine1926\\n4 months ago\\nthey weren't lying, that maker really was met\\n16\\nReply\\n@dogalolo\\n4 months ago\\nI'm still so glad I was there to witness that Hitman clip at the beginning-- such a well-deserved record. I'm actually kinda interested in Meet Your Maker, even more so after this video! Great run, Aspect!\\n11\\nReply\\n@havvak_\\n3 months ago\\nGG nice runs! I took on your challenge and managed to get just over a 3min 1second time. Posted it to the speedrun leaderboards.\\n8\\nReply\\n·\\n2 replies\\n@Br0dyz3r0\\n4 months ago\\nCrushed it, phenomenal as always mate\\n9\\nReply\\n·\\n1 reply\\n@frumiousgaming\\n4 months ago\\nThis game actually looks pretty sick but I think I’d be terrible at it lol\\n12\\nReply\\n@Zel-Veraan\\n2 months ago\\nI've been playing a fair number of extraction shooters, but not Tarkov yet. However, you got me wanting to try the game now.\\n\\nAlso, fantastic video, man.\\n2\\nReply\\n@crystallinepunk3164\\n4 months ago\\nThis is such a good video! I really like the game! I'm going to click the *link in the description* & buy it for myself!\\n9\\nReply\\n1 reply\\n@squidsarecool6438\\n4 months ago\\ngreat video for real i definitely have watched it\\n5\\nReply\\n@namsocat4419\\n4 months ago\\nAbsolute banger as always\\n4\\nReply\\n@IronFlare\\n4 months ago\\nShoutout to Doja Cat for getting Aspect into Meet Your Maker\\n4\\nReply\\n@XxEvolutionxX23\\n3 months ago\\nIt's neat to see a video on this game. I accidentally came across it for free through PSN membership and got absolutely HOOKED on playing this game. Both completing ridiculous dungeons and making the most fucked up trust issue inducing traps and monster pathing.\\n1\\nReply\\n@goldgalaxy2224\\n4 months ago\\nThe ledgend is back\\n2\\nReply\\n@gogglyspecsgs9305\\n3 months ago\\nI already play MYM but this was such a fun watch\\nReply\\n@ColdAndBrew\\n4 months ago\\nLETSGO fresh aspect content!\\nReply\\n@ifroad33\\n13 days ago\\nWait why did i never get recommended this? I had no idea this was uploaded until now\\nReply\\n@eq2lornick\\n2 months ago\\nGreat runs!\\nReply\\n@surreptitious03\\n4 months ago\\ngreat video as always\\nReply\\n@Ragtter\\n4 months ago\\nit's so good holy moly!!!\\nReply\\n@lukasgick9424\\n3 months ago\\nHey man nice vid! Something for you maybe, iirc you can swing at the ground while coming down to ignore the longjumpstun :D\\nReply\\n@Liam-co1bw\\n4 months ago\\nthese videos are so fucking good\\nReply\\n@declanpowell647\\n4 months ago\\nNew Aspect vid? Today is going to be a good day :)\\nReply\\n@vesty00\\n4 months ago\\nBORIS IS BACK AT IT!!!!\\nReply\\n@hansoncrack\\n2 months ago\\nYou @aspecticor - I dont do a lot of Twitch streaming but watch a lot of the Atrioc Hitman Horse stuff. Its a lot of fun, and I looped over here to see if I could see your take. Working out the routes, but it is not uploaded here. Do you not upload it, or do you have another channel? Thanks for the content either, big ups for your influence to the game. Cheers\\nReply\\n@lefave91\\n2 months ago\\nCongrats on the sponsor!!!!!\\nReply\\n@Skelly57\\n4 months ago\\nnew aspecticor video!!! :D\\nReply\\n@samuelh1766\\n4 months ago\\nWake up babe new Aspecticor video\\nReply\\n@pikoha\\n4 months ago\\nThank you\\nReply\\n@eduardpeeterlemming\\n1 month ago\\nSo they made Cizzorz deathruns into unique challenges\\nReply\\n@Gingerbran\\n4 months ago\\nGiving me tomatoanus vibes I love it\\nReply\\n@katiegrayx3637\\n4 months ago\\nGOAT\\nReply\\n@valfonso678\\n4 months ago\\nLET'S GOOOOO\\nReply\\n@Agent-Choo\\n4 months ago\\nballs\\n3\\nReply\\n@PUKAagency\\n4 months ago\\nLets Gooooooo\\nReply\\n@Lefthandedbanana\\n4 months ago\\nam i allowed to say BALD and DENTED or is that only for twitch chat\\nReply\\n@OddNytox\\n4 months ago\\nHere before it hits the algorithm\\nReply\\n@jonmaddness741\\n4 weeks ago\\nHITMAN H.O.R.S.E\\nReply\\n@neiremberg3280\\n4 months ago\\ninteresting\\nReply\\n@Pokemonlin99\\n4 months ago\\nArrived just in time for 69 views. Nice.\\nReply\\n@b00kitten\\n4 months ago\\nWow, and I thought he was busy finally getting sub 60 bird%\\nReply\\n@Liam-co1bw\\n4 months ago\\ndoes the game not have an fov slider..?\\n1\\nReply\\n@geeking38\\n4 months ago\\nNext video on freelancer speedrunning?\\nReply\\n@MaxTVx\\n4 months ago\\nYou pronounced reticle wrong lol\\nReply\\n1 reply\\n@Archanteater43\\n4 months ago\\nI stopped counting how -# your jokes went.\\nWe'll just go -50. Do better.\\nReply\\n@carolinesherman\\n4 months ago\\npride flags and blajhs make me happy\\n4\\nReply\\n@loopooillohg\\n4 months ago\\ncan you speak like yourself\\nReply\\n@videoplayback_\\n1 month ago\\noh nice try to make it looks like a normal documentary video, but it's not, they paid you to do the advertisement, nd no the game is very horrible\\nReply\\n@von...\\n4 months ago\\nThis is such a good video! I really like the game! I'm going to click the *link in the description* & buy it for myself!\\n5\\nReply\",\n",
       " '',\n",
       " '',\n",
       " '',\n",
       " '',\n",
       " '',\n",
       " '',\n",
       " '',\n",
       " 'Check out the game here! https://bit.ly/Meet-Your-Maker-Aspecticor',\n",
       " 'Aspecticor has made it out of his editing dungeon!',\n",
       " \"I'm not a speed runner but the map designs with multiple traps in a single area has transformed my play style. I've become a speed runner.\",\n",
       " \"they weren't lying, that maker really was met\",\n",
       " \"I'm still so glad I was there to witness that Hitman clip at the beginning-- such a well-deserved record. I'm actually kinda interested in Meet Your Maker, even more so after this video! Great run, Aspect!\",\n",
       " 'GG nice runs! I took on your challenge and managed to get just over a 3min 1second time. Posted it to the speedrun leaderboards.',\n",
       " 'Crushed it, phenomenal as always mate',\n",
       " 'This game actually looks pretty sick but I think I’d be terrible at it lol',\n",
       " \"I've been playing a fair number of extraction shooters, but not Tarkov yet. However, you got me wanting to try the game now.\\n\\nAlso, fantastic video, man.\",\n",
       " \"This is such a good video! I really like the game! I'm going to click the *link in the description* & buy it for myself!\",\n",
       " 'great video for real i definitely have watched it',\n",
       " 'Absolute banger as always',\n",
       " 'Shoutout to Doja Cat for getting Aspect into Meet Your Maker',\n",
       " \"It's neat to see a video on this game. I accidentally came across it for free through PSN membership and got absolutely HOOKED on playing this game. Both completing ridiculous dungeons and making the most fucked up trust issue inducing traps and monster pathing.\",\n",
       " 'The ledgend is back',\n",
       " 'I already play MYM but this was such a fun watch',\n",
       " 'LETSGO fresh aspect content!',\n",
       " 'Wait why did i never get recommended this? I had no idea this was uploaded until now',\n",
       " 'Great runs!',\n",
       " 'great video as always',\n",
       " \"it's so good holy moly!!!\",\n",
       " 'Hey man nice vid! Something for you maybe, iirc you can swing at the ground while coming down to ignore the longjumpstun :D',\n",
       " 'these videos are so fucking good',\n",
       " 'New Aspect vid? Today is going to be a good day :)',\n",
       " 'BORIS IS BACK AT IT!!!!',\n",
       " 'You @aspecticor - I dont do a lot of Twitch streaming but watch a lot of the Atrioc Hitman Horse stuff. Its a lot of fun, and I looped over here to see if I could see your take. Working out the routes, but it is not uploaded here. Do you not upload it, or do you have another channel? Thanks for the content either, big ups for your influence to the game. Cheers',\n",
       " 'Congrats on the sponsor!!!!!',\n",
       " 'new aspecticor video!!! :D',\n",
       " 'Wake up babe new Aspecticor video',\n",
       " 'Thank you',\n",
       " 'So they made Cizzorz deathruns into unique challenges',\n",
       " 'Giving me tomatoanus vibes I love it',\n",
       " 'GOAT',\n",
       " \"LET'S GOOOOO\",\n",
       " 'balls',\n",
       " 'Lets Gooooooo',\n",
       " 'am i allowed to say BALD and DENTED or is that only for twitch chat',\n",
       " 'Here before it hits the algorithm',\n",
       " 'HITMAN H.O.R.S.E',\n",
       " 'interesting',\n",
       " 'Arrived just in time for 69 views. Nice.',\n",
       " 'Wow, and I thought he was busy finally getting sub 60 bird%',\n",
       " 'does the game not have an fov slider..?',\n",
       " 'Next video on freelancer speedrunning?',\n",
       " 'You pronounced reticle wrong lol',\n",
       " \"I stopped counting how -# your jokes went.\\nWe'll just go -50. Do better.\",\n",
       " 'pride flags and blajhs make me happy',\n",
       " 'can you speak like yourself',\n",
       " \"oh nice try to make it looks like a normal documentary video, but it's not, they paid you to do the advertisement, nd no the game is very horrible\",\n",
       " \"This is such a good video! I really like the game! I'm going to click the *link in the description* & buy it for myself!\"]"
      ]
     },
     "execution_count": 17,
     "metadata": {},
     "output_type": "execute_result"
    }
   ],
   "source": [
    "data"
   ]
  },
  {
   "cell_type": "code",
   "execution_count": null,
   "metadata": {},
   "outputs": [],
   "source": []
  }
 ],
 "metadata": {
  "kernelspec": {
   "display_name": "env",
   "language": "python",
   "name": "python3"
  },
  "language_info": {
   "codemirror_mode": {
    "name": "ipython",
    "version": 3
   },
   "file_extension": ".py",
   "mimetype": "text/x-python",
   "name": "python",
   "nbconvert_exporter": "python",
   "pygments_lexer": "ipython3",
   "version": "3.10.13"
  }
 },
 "nbformat": 4,
 "nbformat_minor": 2
}
